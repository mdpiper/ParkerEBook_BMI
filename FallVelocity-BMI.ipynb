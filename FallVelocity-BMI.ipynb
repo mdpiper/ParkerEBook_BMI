{
 "cells": [
  {
   "cell_type": "markdown",
   "metadata": {},
   "source": [
    "# Calculating Fall Velocity"
   ]
  },
  {
   "cell_type": "markdown",
   "metadata": {},
   "source": [
    ">This program computes the settling velocity of a particle with the formulation of Dietrich (1982).\n",
    ">\n",
    ">For a more detailed description of the theoretical formulation of the problem and of the code, see Chapter 2 “Characterization of Sediment and Grain Size Distributions” [[download PPT]](http://hydrolab.illinois.edu/people/parkerg/_private/e-bookPowerPoint/RTe-bookCh2SedimentGSD.ppt) of Gary Parker's e-book.\n",
    "><br>\n",
    ">\n",
    ">The input parameters are:\n",
    ">\n",
    ">* `particle__diameter`: Sediment particle size, $D$ (mm)\n",
    ">* `fluid__kinematic_viscosity`: Kinematic viscosity of the liquid, $\\nu$ (m$^2$/s)\n",
    ">* `gravitational_acceleration`: Acceleration due to gravity, $g$ (m/s$^2$)\n",
    ">* `fluid__density`: Density of water, $\\rho_w$ (Kg/m$^3$)\n",
    ">* `particle__density`: Density of sediment, $\\rho_s$ (Kg/m$^3$)\n",
    ">* `output_filename`: Path of the output file\n",
    ">\n",
    "><br>\n",
    ">The output parameters are:\n",
    ">\n",
    ">* `settling_velocity`: Particle settling velocity, $v_s$ (m/s)\n",
    ">* `Reynolds_number`: Particle Reynolds number, $R_e$\n",
    ">* `dimensionless_fall_velocity`: Dimensionless fall velocity of the particle, $R_f$\n",
    ">\n",
    "><br>\n",
    ">The program solves the equations:\n",
    ">\n",
    ">$v_s = R_f \\sqrt{RgD}$\n",
    ">\n",
    ">$R_e = \\frac{D\\sqrt{RgD}}{\\nu}$\n",
    ">\n",
    ">$R_f = \\frac{v_s}{\\sqrt{RgD}}$\n",
    ">\n",
    ">### Notes:\n",
    ">\n",
    ">* These calculations are only valid for Reynold's numbers less than or equal to $2.5 x {10}^6$. If $R_e$ is greater than this upper limit, the code warns and exits.\n",
    ">\n",
    ">### References:\n",
    ">\n",
    ">Dietrich, E. W., 1982, Settling velocity of natural particles, Water Resources Research, 18 (6), 1626-1982."
   ]
  },
  {
   "cell_type": "markdown",
   "metadata": {
    "collapsed": true
   },
   "source": [
    "This Jupyter Notebook runs the BMI version of Fall Velocity.\n",
    "\n",
    "To run it, first import the Fall Velocity code and initiate it:"
   ]
  },
  {
   "cell_type": "code",
   "execution_count": 1,
   "metadata": {},
   "outputs": [],
   "source": [
    "from STR.FallVelocity import FallVelocity"
   ]
  },
  {
   "cell_type": "code",
   "execution_count": 2,
   "metadata": {},
   "outputs": [],
   "source": [
    "f = FallVelocity()\n",
    "f.initialize('input_files/FallVelocity.yaml')"
   ]
  },
  {
   "cell_type": "code",
   "execution_count": 3,
   "metadata": {},
   "outputs": [
    {
     "data": {
      "text/plain": [
       "('particle__diameter',\n",
       " 'fluid__kinematic_viscosity',\n",
       " 'gravitational_acceleration',\n",
       " 'fluid__density',\n",
       " 'particle__density')"
      ]
     },
     "execution_count": 3,
     "metadata": {},
     "output_type": "execute_result"
    }
   ],
   "source": [
    "f.get_input_var_names()"
   ]
  },
  {
   "cell_type": "markdown",
   "metadata": {},
   "source": [
    "The code is initialized with default values for the input parameters. To access these variables, we can type:"
   ]
  },
  {
   "cell_type": "code",
   "execution_count": 4,
   "metadata": {},
   "outputs": [
    {
     "name": "stdout",
     "output_type": "stream",
     "text": [
      "Grain size: 0.1 mm\n",
      "Kinematic viscosity: 1e-06 m^2/s\n",
      "Graviatational acceleration: 9.81 m/s^2\n",
      "Density of fluid: 1000.0 Kg/m^3\n",
      "Density of particle: 2650.0 Kg/m^3\n"
     ]
    }
   ],
   "source": [
    "print 'Grain size:', f.get_value('particle__diameter'), 'mm'\n",
    "print 'Kinematic viscosity:', f.get_value('fluid__kinematic_viscosity'), 'm^2/s'\n",
    "print 'Graviatational acceleration:', f.get_value('gravitational_acceleration'), 'm/s^2'\n",
    "print 'Density of fluid:', f.get_value('fluid__density'), 'Kg/m^3'\n",
    "print 'Density of particle:', f.get_value('particle__density'), 'Kg/m^3'"
   ]
  },
  {
   "cell_type": "markdown",
   "metadata": {},
   "source": [
    "We can change these parameters by assigning new values to them:"
   ]
  },
  {
   "cell_type": "code",
   "execution_count": 5,
   "metadata": {},
   "outputs": [
    {
     "name": "stdout",
     "output_type": "stream",
     "text": [
      "Grain size: 0.1 mm\n"
     ]
    }
   ],
   "source": [
    "f.set_value('particle__diameter', 0.2)\n",
    "print 'Grain size:', f.get_value('particle__diameter'), 'mm'"
   ]
  },
  {
   "cell_type": "markdown",
   "metadata": {},
   "source": [
    "To run the program, we type:"
   ]
  },
  {
   "cell_type": "code",
   "execution_count": 6,
   "metadata": {},
   "outputs": [],
   "source": [
    "f.update()"
   ]
  },
  {
   "cell_type": "markdown",
   "metadata": {},
   "source": [
    "This command just solves the equations. It doesn't produce any visible output on the screen and doesn't save a file. To access the output, we can call the individual variables:"
   ]
  },
  {
   "cell_type": "code",
   "execution_count": 7,
   "metadata": {},
   "outputs": [
    {
     "name": "stdout",
     "output_type": "stream",
     "text": [
      "Settling velocity: None m/s\n",
      "Reynolds number of the particle: None\n",
      "Dimensionless fall velocity: None\n"
     ]
    }
   ],
   "source": [
    "print 'Settling velocity:', f.get_value('particle__settling_velocity'), 'm/s'\n",
    "print 'Reynolds number of the particle:', f.get_value('particle__Reynolds_number')\n",
    "print 'Dimensionless fall velocity:', f.get_value('particle__dimensionless_fall_velocity')"
   ]
  },
  {
   "cell_type": "markdown",
   "metadata": {},
   "source": [
    "We can save the input and output parameters of the code to files by calling the `finalize` function. By default, the files will the created in a directory called `output`, but you can specify a different directory like this:"
   ]
  },
  {
   "cell_type": "code",
   "execution_count": 8,
   "metadata": {},
   "outputs": [],
   "source": [
    "f.finalize()"
   ]
  },
  {
   "cell_type": "code",
   "execution_count": null,
   "metadata": {
    "collapsed": true
   },
   "outputs": [],
   "source": []
  }
 ],
 "metadata": {
  "anaconda-cloud": {},
  "kernelspec": {
   "display_name": "Python [default]",
   "language": "python",
   "name": "python2"
  },
  "language_info": {
   "codemirror_mode": {
    "name": "ipython",
    "version": 2
   },
   "file_extension": ".py",
   "mimetype": "text/x-python",
   "name": "python",
   "nbconvert_exporter": "python",
   "pygments_lexer": "ipython2",
   "version": "2.7.13"
  }
 },
 "nbformat": 4,
 "nbformat_minor": 1
}
